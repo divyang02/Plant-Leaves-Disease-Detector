{
 "cells": [
  {
   "cell_type": "code",
   "execution_count": 27,
   "metadata": {},
   "outputs": [
    {
     "data": {
      "text/plain": [
       "''"
      ]
     },
     "execution_count": 27,
     "metadata": {},
     "output_type": "execute_result"
    }
   ],
   "source": [
    "import tkinter as tk\n",
    "from tkinter import *\n",
    "from tkinter import filedialog\n",
    "master = tk.Tk()\n",
    "master.title('plant')\n",
    "master.geometry('700x500')"
   ]
  },
  {
   "cell_type": "code",
   "execution_count": 28,
   "metadata": {},
   "outputs": [],
   "source": [
    "file_path = \"\"\n",
    "def browse_file() :\n",
    "    global file_path\n",
    "    fn =  filedialog.askopenfilename(initialdir = \"/\",title = \"Select file\",filetypes = ((\"jpeg files\",\"*.jpg\"),(\"all files\",\"*.*\")))\n",
    "    #print(fn)\n",
    "    file_path = fn\n",
    "    #file_path = master.filename\n",
    "    #print(file_path)"
   ]
  },
  {
   "cell_type": "code",
   "execution_count": 3,
   "metadata": {},
   "outputs": [
    {
     "name": "stderr",
     "output_type": "stream",
     "text": [
      "/Users/divy/anaconda3/envs/tensorflow/lib/python3.5/site-packages/h5py/__init__.py:36: FutureWarning: Conversion of the second argument of issubdtype from `float` to `np.floating` is deprecated. In future, it will be treated as `np.float64 == np.dtype(float).type`.\n",
      "  from ._conv import register_converters as _register_converters\n",
      "Using TensorFlow backend.\n"
     ]
    }
   ],
   "source": [
    "from keras.models import load_model\n",
    "import keras \n",
    "import numpy as np\n",
    "\n",
    "model_all = load_model('Models/my_model_fc.h5')\n",
    "model_21 = load_model('Models/my_model_21_class.h5')\n",
    "model_2 = load_model('Models/my_model_2class.h5')\n"
   ]
  },
  {
   "cell_type": "code",
   "execution_count": 4,
   "metadata": {
    "collapsed": true
   },
   "outputs": [],
   "source": [
    "name_to_labels_all = np.load('name_to_labels_all_classes.npy').item()\n",
    "label_to_name_all = {}\n",
    "for key in name_to_labels_all : \n",
    "    label_to_name_all[name_to_labels_all[key]] = key\n",
    "    \n",
    "\n",
    "name_to_labels_21 = np.load('name_to_labels_of_21_class.npy').item()\n",
    "label_to_name_21 = {}\n",
    "for key in name_to_labels_21 : \n",
    "    label_to_name_21[name_to_labels_21[key]] = key"
   ]
  },
  {
   "cell_type": "code",
   "execution_count": 29,
   "metadata": {},
   "outputs": [],
   "source": [
    "from keras.preprocessing import image\n",
    "from keras.applications.imagenet_utils import preprocess_input\n",
    "from keras.layers import Dense, Activation, Flatten\n",
    "from keras.layers import merge, Input\n",
    "from keras.models import Model\n",
    "from keras.utils import np_utils\n",
    "from keras.preprocessing.image import ImageDataGenerator, array_to_img, img_to_array, load_img\n",
    "from PIL import Image\n",
    "\n",
    "test_data_list = []\n",
    "\n",
    "def pred_2_class():\n",
    "    img = image.load_img(file_path, target_size = (224,224))\n",
    "    x = image.img_to_array(img)\n",
    "    x = np.expand_dims(x, axis=0)\n",
    "    x = preprocess_input(x)\n",
    "    test_data_list.append(x)\n",
    "    test_data = np.array(test_data_list)\n",
    "    test_data = np.rollaxis(test_data, 1, 0)\n",
    "    test_data = test_data[0]\n",
    "    \n",
    "    predictions = model_2.predict(test_data)\n",
    "    a = -1\n",
    "    for l in predictions :\n",
    "        a = np.argmax(l)\n",
    "        \n",
    "    dict_map = {0:'healthy', 1:'diseased'}\n",
    "    msg = tk.Message(master, text = dict_map[a])\n",
    "    msg.config(bg='lightgreen', font=('times', 14, 'italic'))\n",
    "    msg.pack()\n",
    "    \n",
    "def pred_21_class():\n",
    "    img = image.load_img(file_path, target_size = (224,224))\n",
    "    x = image.img_to_array(img)\n",
    "    x = np.expand_dims(x, axis=0)\n",
    "    x = preprocess_input(x)\n",
    "    test_data_list.append(x)\n",
    "    test_data = np.array(test_data_list)\n",
    "    test_data = np.rollaxis(test_data, 1, 0)\n",
    "    test_data = test_data[0]\n",
    "    \n",
    "    predictions = model_21.predict(test_data)\n",
    "    a = -1\n",
    "    for l in predictions :\n",
    "        a = np.argmax(l)\n",
    "    \n",
    "    msg = tk.Message(master, text = label_to_name_21[a])\n",
    "    msg.config(bg='red', font=('times', 14, 'italic'))\n",
    "    msg.pack()\n",
    "    \n",
    "def pred_all_class():\n",
    "    img = image.load_img(file_path, target_size = (224,224))\n",
    "    x = image.img_to_array(img)\n",
    "    x = np.expand_dims(x, axis=0)\n",
    "    x = preprocess_input(x)\n",
    "    test_data_list.append(x)\n",
    "    test_data = np.array(test_data_list)\n",
    "    test_data = np.rollaxis(test_data, 1, 0)\n",
    "    test_data = test_data[0]\n",
    "    \n",
    "    predictions = model_all.predict(test_data)\n",
    "    a = -1\n",
    "    for l in predictions :\n",
    "        a = np.argmax(l)\n",
    "    msg = tk.Message(master, text = label_to_name_all[a])\n",
    "    msg.config(bg='blue', font=('times', 14, 'italic'))\n",
    "    msg.pack()"
   ]
  },
  {
   "cell_type": "code",
   "execution_count": 30,
   "metadata": {},
   "outputs": [
    {
     "name": "stdout",
     "output_type": "stream",
     "text": [
      "/Users/divy/Desktop/impTestcases/Apple___Apple_scab/1d81b4c1-072d-4cf7-b1ca-ce43f59822d8___FREC_Scab 3406.JPG\n"
     ]
    }
   ],
   "source": [
    "\n",
    "b = Button(master, text = \"file\", command = browse_file)\n",
    "b.pack()\n",
    "b1 = Button(master, text = \"Diseased-or-healthy\", command = pred_2_class)\n",
    "b1.pack()\n",
    "b2 = Button(master, text = \"Disease-Name-Or-Healthy\", command = pred_21_class)\n",
    "b2.pack()\n",
    "b3 = Button(master, text = \"Disease-and-plant-name\", command = pred_all_class)\n",
    "b3.pack()\n",
    "\n",
    "master.mainloop()\n",
    "\n",
    "print(file_path)"
   ]
  },
  {
   "cell_type": "code",
   "execution_count": null,
   "metadata": {
    "collapsed": true
   },
   "outputs": [],
   "source": []
  }
 ],
 "metadata": {
  "kernelspec": {
   "display_name": "tensorflow",
   "language": "python",
   "name": "tensorflow"
  },
  "language_info": {
   "codemirror_mode": {
    "name": "ipython",
    "version": 3
   },
   "file_extension": ".py",
   "mimetype": "text/x-python",
   "name": "python",
   "nbconvert_exporter": "python",
   "pygments_lexer": "ipython3",
   "version": "3.5.4"
  }
 },
 "nbformat": 4,
 "nbformat_minor": 2
}
