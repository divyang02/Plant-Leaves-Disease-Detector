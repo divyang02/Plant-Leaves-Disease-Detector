{
 "cells": [
  {
   "cell_type": "code",
   "execution_count": 1,
   "metadata": {},
   "outputs": [
    {
     "name": "stderr",
     "output_type": "stream",
     "text": [
      "/Users/divy/anaconda3/envs/tensorflow/lib/python3.5/site-packages/h5py/__init__.py:36: FutureWarning: Conversion of the second argument of issubdtype from `float` to `np.floating` is deprecated. In future, it will be treated as `np.float64 == np.dtype(float).type`.\n",
      "  from ._conv import register_converters as _register_converters\n",
      "Using TensorFlow backend.\n",
      "/Users/divy/anaconda3/envs/tensorflow/lib/python3.5/site-packages/sklearn/cross_validation.py:41: DeprecationWarning: This module was deprecated in version 0.18 in favor of the model_selection module into which all the refactored classes and functions are moved. Also note that the interface of the new CV iterators are different from that of this module. This module will be removed in 0.20.\n",
      "  \"This module will be removed in 0.20.\", DeprecationWarning)\n"
     ]
    }
   ],
   "source": [
    "import numpy as np\n",
    "import os\n",
    "import time\n",
    "from vgg16 import VGG16\n",
    "from keras.preprocessing import image\n",
    "from keras.applications.imagenet_utils import preprocess_input\n",
    "from imagenet_utils import decode_predictions\n",
    "from keras.layers import Dense, Activation, Flatten\n",
    "from keras.layers import merge, Input\n",
    "from keras.models import Model\n",
    "from keras.utils import np_utils\n",
    "from sklearn.utils import shuffle\n",
    "from sklearn.cross_validation import train_test_split\n",
    "from __future__ import print_function\n",
    "import keras\n",
    "from keras.preprocessing.image import ImageDataGenerator, array_to_img, img_to_array, load_img\n",
    "import math\n",
    "import time\n",
    "from PIL import Image"
   ]
  },
  {
   "cell_type": "code",
   "execution_count": 2,
   "metadata": {
    "collapsed": true
   },
   "outputs": [],
   "source": [
    "from keras.models import load_model\n",
    "\n",
    "all_class_model = load_model('Models/my_model_2class.h5')"
   ]
  },
  {
   "cell_type": "code",
   "execution_count": 13,
   "metadata": {},
   "outputs": [
    {
     "name": "stdout",
     "output_type": "stream",
     "text": [
      "(1, 224, 224, 3)\n"
     ]
    }
   ],
   "source": [
    "test_data_list = []\n",
    "\n",
    "path = os.getcwd()\n",
    "data_path = path + '/raw/color'\n",
    "img_path = data_path +'/Blueberry___healthy/008c85d0-a954-4127-bd26-861dc8a1e6ff___RS_HL 2431.JPG'\n",
    "img = image.load_img(img_path, target_size = (224,224))\n",
    "x = image.img_to_array(img)\n",
    "x = np.expand_dims(x, axis=0)\n",
    "x = preprocess_input(x)\n",
    "test_data_list.append(x)\n",
    "\n",
    "test_data = np.array(test_data_list)\n",
    "test_data = np.rollaxis(test_data, 1, 0)\n",
    "test_data = test_data[0]\n",
    "print(test_data.shape)"
   ]
  },
  {
   "cell_type": "code",
   "execution_count": 14,
   "metadata": {
    "collapsed": true
   },
   "outputs": [],
   "source": [
    "predictions = all_class_model.predict(test_data)"
   ]
  },
  {
   "cell_type": "code",
   "execution_count": 15,
   "metadata": {},
   "outputs": [
    {
     "name": "stdout",
     "output_type": "stream",
     "text": [
      "[[9.9991095e-01 8.8982095e-05]]\n"
     ]
    }
   ],
   "source": [
    "print(predictions)"
   ]
  },
  {
   "cell_type": "code",
   "execution_count": 16,
   "metadata": {},
   "outputs": [
    {
     "name": "stdout",
     "output_type": "stream",
     "text": [
      "0\n"
     ]
    }
   ],
   "source": [
    "for l in predictions :\n",
    "    print(np.argmax(l))"
   ]
  },
  {
   "cell_type": "code",
   "execution_count": 17,
   "metadata": {
    "collapsed": true
   },
   "outputs": [],
   "source": [
    "name_to_labels = np.load('name_to_labels_all_classes.npy').item()"
   ]
  },
  {
   "cell_type": "code",
   "execution_count": 18,
   "metadata": {
    "collapsed": true
   },
   "outputs": [],
   "source": [
    "label_to_name = {}\n",
    "for key in name_to_labels : \n",
    "    label_to_name[name_to_labels[key]] = key"
   ]
  },
  {
   "cell_type": "code",
   "execution_count": 19,
   "metadata": {},
   "outputs": [
    {
     "data": {
      "text/plain": [
       "{0: 'Cherry_(including_sour)___healthy',\n",
       " 1: 'Peach___Bacterial_spot',\n",
       " 2: 'Corn_(maize)___Cercospora_leaf_spot Gray_leaf_spot',\n",
       " 3: 'Tomato___Early_blight',\n",
       " 4: 'Orange___Haunglongbing_(Citrus_greening)',\n",
       " 5: 'Raspberry___healthy',\n",
       " 6: 'Cherry_(including_sour)___Powdery_mildew',\n",
       " 7: 'Grape___healthy',\n",
       " 8: 'Peach___healthy',\n",
       " 9: 'Blueberry___healthy',\n",
       " 10: 'Tomato___Late_blight',\n",
       " 11: 'Tomato___Spider_mites Two-spotted_spider_mite',\n",
       " 12: 'Tomato___Tomato_mosaic_virus',\n",
       " 13: 'Potato___healthy',\n",
       " 14: 'Soybean___healthy',\n",
       " 15: 'Potato___Late_blight',\n",
       " 16: 'Tomato___Leaf_Mold',\n",
       " 17: 'Grape___Esca_(Black_Measles)',\n",
       " 18: 'Corn_(maize)___Common_rust_',\n",
       " 19: 'Pepper,_bell___healthy',\n",
       " 20: 'Tomato___Target_Spot',\n",
       " 21: 'Pepper,_bell___Bacterial_spot',\n",
       " 22: 'Grape___Black_rot',\n",
       " 23: 'Potato___Early_blight',\n",
       " 24: 'Tomato___healthy',\n",
       " 25: 'Grape___Leaf_blight_(Isariopsis_Leaf_Spot)',\n",
       " 26: 'Apple___Cedar_apple_rust',\n",
       " 27: 'Tomato___Bacterial_spot',\n",
       " 28: 'Apple___Black_rot',\n",
       " 29: 'Corn_(maize)___healthy',\n",
       " 30: 'Tomato___Septoria_leaf_spot',\n",
       " 31: 'Corn_(maize)___Northern_Leaf_Blight',\n",
       " 32: 'Tomato___Tomato_Yellow_Leaf_Curl_Virus',\n",
       " 33: 'Apple___Apple_scab',\n",
       " 34: 'Squash___Powdery_mildew',\n",
       " 35: 'Strawberry___healthy',\n",
       " 36: 'Apple___healthy',\n",
       " 37: 'Strawberry___Leaf_scorch'}"
      ]
     },
     "execution_count": 19,
     "metadata": {},
     "output_type": "execute_result"
    }
   ],
   "source": [
    "label_to_name"
   ]
  },
  {
   "cell_type": "code",
   "execution_count": null,
   "metadata": {
    "collapsed": true
   },
   "outputs": [],
   "source": []
  }
 ],
 "metadata": {
  "kernelspec": {
   "display_name": "tensorflow",
   "language": "python",
   "name": "tensorflow"
  },
  "language_info": {
   "codemirror_mode": {
    "name": "ipython",
    "version": 3
   },
   "file_extension": ".py",
   "mimetype": "text/x-python",
   "name": "python",
   "nbconvert_exporter": "python",
   "pygments_lexer": "ipython3",
   "version": "3.5.4"
  }
 },
 "nbformat": 4,
 "nbformat_minor": 2
}
